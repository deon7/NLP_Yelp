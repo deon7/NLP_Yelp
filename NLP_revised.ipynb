{
 "cells": [
  {
   "cell_type": "code",
   "execution_count": 24,
   "metadata": {
    "collapsed": false
   },
   "outputs": [
    {
     "name": "stdout",
     "output_type": "stream",
     "text": [
      "showing info https://raw.githubusercontent.com/nltk/nltk_data/gh-pages/index.xml\n",
      "[u'i', u'me', u'my', u'myself', u'we', u'our', u'ours', u'ourselves', u'you', u'your', u'yours', u'yourself', u'yourselves', u'he', u'him', u'his', u'himself', u'she', u'her', u'hers', u'herself', u'it', u'its', u'itself', u'they', u'them', u'their', u'theirs', u'themselves', u'what', u'which', u'who', u'whom', u'this', u'that', u'these', u'those', u'am', u'is', u'are', u'was', u'were', u'be', u'been', u'being', u'have', u'has', u'had', u'having', u'do', u'does', u'did', u'doing', u'a', u'an', u'the', u'and', u'but', u'if', u'or', u'because', u'as', u'until', u'while', u'of', u'at', u'by', u'for', u'with', u'about', u'against', u'between', u'into', u'through', u'during', u'before', u'after', u'above', u'below', u'to', u'from', u'up', u'down', u'in', u'out', u'on', u'off', u'over', u'under', u'again', u'further', u'then', u'once', u'here', u'there', u'when', u'where', u'why', u'how', u'all', u'any', u'both', u'each', u'few', u'more', u'most', u'other', u'some', u'such', u'no', u'nor', u'not', u'only', u'own', u'same', u'so', u'than', u'too', u'very', u's', u't', u'can', u'will', u'just', u'don', u'should', u'now', u'd', u'll', u'm', u'o', u're', u've', u'y', u'ain', u'aren', u'couldn', u'didn', u'doesn', u'hadn', u'hasn', u'haven', u'isn', u'ma', u'mightn', u'mustn', u'needn', u'shan', u'shouldn', u'wasn', u'weren', u'won', u'wouldn']\n",
      "['accept', 'accepta', 'accepted', 'accepting', 'accepts', 'active', 'admir', 'ador', 'advantag', 'adventur', 'affection', 'agree', 'agreeab', 'agreed', 'agreeing', 'agreement', 'agrees', 'alright', 'amaz', 'amor', 'amus', 'aok', 'appreciat', 'assur', 'attachment', 'attract', 'award', 'awesome', 'beaut', 'beloved', 'benefic', 'benefit', 'benefits', 'benefitt', 'benevolen', 'benign', 'best', 'better', 'bless', 'bold', 'bonus', 'brave', 'bright', 'brillian', 'calm', 'care', 'cared', 'carefree', 'careful', 'cares', 'caring', 'casual', 'casually', 'certain', 'challeng', 'champ', 'charit', 'charm', 'cheer', 'cherish', 'chuckl', 'clever', 'comed', 'comfort', 'commitment', 'compassion', 'compliment', 'confidence', 'confident', 'confidently', 'considerate', 'contented', 'contentment', 'convinc', 'cool', 'courag', 'create', 'creati', 'credit', 'cute', 'cutie', 'daring', 'darlin', 'dear', 'definite', 'definitely', 'delectabl', 'delicate', 'delicious', 'deligh', 'determina', 'determined', 'devot', 'digni', 'divin', 'dynam', 'eager', 'ease', 'easie', 'easily', 'easiness', 'easing', 'easy', 'ecsta', 'efficien', 'elegan', 'encourag', 'energ', 'engag', 'enjoy', 'entertain', 'enthus', 'excel', 'excit', 'fab', 'fabulous', 'faith', 'fantastic', 'favor', 'favour', 'fearless', 'festiv', 'fiesta', 'fine', 'flatter', 'flawless', 'flexib', 'flirt', 'fond', 'fondly', 'fondness', 'forgave', 'forgiv', 'free', 'free', 'freeb', 'freed', 'freeing', 'freely', 'freeness', 'freer', 'frees', 'friend', 'fun', 'funn', 'genero', 'gentle', 'gentler', 'gentlest', 'gently', 'giggl', 'giver', 'giving', 'glad', 'gladly', 'glamor', 'glamour', 'glori', 'glory', 'good', 'goodness', 'gorgeous', 'grace', 'graced', 'graceful', 'graces', 'graci', 'grand', 'grande', 'gratef', 'grati', 'great', 'grin', 'grinn', 'grins', 'ha', 'haha', 'handsom', 'happi', 'happy', 'harmless', 'harmon', 'heartfelt', 'heartwarm', 'heaven', 'heh', 'helper', 'helpful', 'helping', 'helps', 'hero', 'hilarious', 'hoho', 'honest', 'honor', 'honour', 'hope', 'hoped', 'hopeful', 'hopefully', 'hopefulness', 'hopes', 'hoping', 'hug', 'hugg', 'hugs', 'humor', 'humour', 'hurra', 'ideal', 'importan', 'impress', 'improve', 'improving', 'incentive', 'innocen', 'inspir', 'intell', 'interest', 'invigor', 'joke', 'joking', 'joll', 'joy', 'keen', 'kidding', 'kind', 'kindly', 'kindn', 'kiss', 'laidback', 'laugh', 'libert', 'like', 'likeab', 'liked', 'likes', 'liking', 'livel', 'LMAO', 'LOL', 'love', 'loved', 'lovely', 'lover', 'loves', 'loving', 'loyal', 'luck', 'lucked', 'lucki', 'lucks', 'lucky', 'madly', 'magnific', 'merit', 'merr', 'neat', 'nice', 'nurtur', 'ok', 'okay', 'okays', 'oks', 'openminded', 'openness', 'opportun', 'optimal', 'optimi', 'original', 'outgoing', 'painl', 'palatabl', 'paradise', 'partie', 'party', 'passion', 'peace', 'perfect', 'play', 'played', 'playful', 'playing', 'plays', 'pleasant', 'please', 'pleasing', 'pleasur', 'popular', 'positiv', 'prais', 'precious', 'prettie', 'pretty', 'pride', 'privileg', 'prize', 'profit', 'promis', 'proud', 'radian', 'readiness', 'ready', 'reassur', 'relax', 'relief', 'reliev', 'resolv', 'respect', 'revigor', 'reward', 'rich', 'ROFL', 'romanc', 'romantic', 'safe', 'satisf', 'save', 'scrumptious', 'secur', 'sentimental', 'share', 'shared', 'shares', 'sharing', 'silli', 'silly', 'sincer', 'smart', 'smil', 'sociab', 'soulmate', 'special', 'splend', 'strength', 'strong', 'succeed', 'success', 'sunnier', 'sunniest', 'sunny', 'sunshin', 'super', 'superior', 'support', 'supported', 'supporter', 'supporting', 'supportive', 'supports', 'suprem', 'sure', 'surpris', 'sweet', 'sweetheart', 'sweetie', 'sweetly', 'sweetness', 'sweets', 'talent', 'tehe', 'tender', 'terrific', 'thank', 'thanked', 'thankf', 'thanks', 'thoughtful', 'thrill', 'toleran', 'tranquil', 'treasur', 'treat', 'triumph', 'true', 'trueness', 'truer', 'truest', 'truly', 'trust', 'truth', 'useful', 'valuabl', 'value', 'valued', 'values', 'valuing', 'vigor', 'vigour', 'virtue', 'virtuo', 'vital', 'warm', 'wealth', 'welcom', 'well', 'win', 'winn', 'wins', 'wisdom', 'wise', 'won', 'wonderf', 'worship', 'worthwhile', 'wow', 'yay', 'yays']\n",
      "\n",
      "['abandon', 'abuse', 'abusi', 'ache', 'aching', 'advers', 'afraid', 'aggravat', 'aggress', 'agitat', 'agoniz', 'agony', 'alarm', 'alone', 'anger', 'angr', 'anguish', 'annoy', 'antagoni', 'anxi', 'apath', 'appall', 'apprehens', 'argh', 'argu', 'arrogan', 'asham', 'assault', 'asshole', 'attack', 'aversi', 'avoid', 'awful', 'awkward', 'bad', 'bashful', 'bastard', 'battl', 'beaten', 'bitch', 'bitter', 'blam', 'bore', 'boring', 'bother', 'broke', 'brutal', 'burden', 'careless', 'cheat', 'complain', 'confront', 'confus', 'contempt', 'contradic', 'crap', 'crappy', 'craz', 'cried', 'cries', 'critical', 'critici', 'crude', 'cruel', 'crushed', 'cry', 'crying', 'cunt', 'cut', 'cynic', 'damag', 'damn', 'danger', 'daze', 'decay', 'defeat', 'defect', 'defenc', 'defens', 'degrad', 'depress', 'depriv', 'despair', 'desperat', 'despis', 'destroy', 'destruct', 'devastat', 'devil', 'difficult', 'disadvantage', 'disagree', 'disappoint', 'disaster', 'discomfort', 'discourag', 'disgust', 'dishearten', 'disillusion', 'dislike', 'disliked', 'dislikes', 'disliking', 'dismay', 'dissatisf', 'distract', 'distraught', 'distress', 'distrust', 'disturb', 'domina', 'doom', 'dork', 'doubt', 'dread', 'dull', 'dumb', 'dump', 'dwell', 'egotis', 'embarrass', 'emotional', 'empt', 'enemie', 'enemy', 'enrag', 'envie', 'envious', 'envy', 'evil', 'excruciat', 'exhaust', 'fail', 'fake', 'fatal', 'fatigu', 'fault', 'fear', 'feared', 'fearful', 'fearing', 'fears', 'feroc', 'feud', 'fiery', 'fight', 'fired', 'flunk', 'foe', 'fool', 'forbid', 'fought', 'frantic', 'freak', 'fright', 'frustrat', 'fuck', 'fucked', 'fucker', 'fuckin', 'fucks', 'fume', 'fuming', 'furious', 'fury', 'geek', 'gloom', 'goddam', 'gossip', 'grave', 'greed', 'grief', 'griev', 'grim', 'gross', 'grouch', 'grr', 'guilt', 'harass', 'harm', 'harmed', 'harmful', 'harming', 'harms', 'hate', 'hated', 'hateful', 'hater', 'hates', 'hating', 'hatred', 'heartbreak', 'heartbroke', 'heartless', 'hell', 'hellish', 'helpless', 'hesita', 'homesick', 'hopeless', 'horr', 'hostil', 'humiliat', 'hurt', 'idiot', 'ignor', 'immoral', 'impatien', 'impersonal', 'impolite', 'inadequa', 'indecis', 'ineffect', 'inferior', 'inhib', 'insecur', 'insincer', 'insult', 'interrup', 'intimidat', 'irrational', 'irrita', 'isolat', 'jaded', 'jealous', 'jerk', 'jerked', 'jerks', 'kill', 'lame', 'lazie', 'lazy', 'liabilit', 'liar', 'lied', 'lies', 'lone', 'longing', 'lose', 'loser', 'loses', 'losing', 'loss', 'lost', 'lous', 'low', 'luckless', 'ludicrous', 'lying', 'mad', 'maddening', 'madder', 'maddest', 'maniac', 'masochis', 'melanchol', 'mess', 'messy', 'miser', 'miss', 'missed', 'misses', 'missing', 'mistak', 'mock', 'mocked', 'mocker', 'mocking', 'mocks', 'molest', 'mooch', 'moodi', 'moody', 'moron', 'mourn', 'murder', 'nag', 'nast', 'needy', 'neglect', 'nerd', 'nervous', 'neurotic', 'numb', 'obnoxious', 'obsess', 'offence', 'offend', 'offens', 'outrag', 'overwhelm', 'pain', 'pained', 'painf', 'paining', 'pains', 'panic', 'paranoi', 'pathetic', 'peculiar', 'perver', 'pessimis', 'petrif', 'pettie', 'petty', 'phobi', 'piss', 'piti', 'pity', 'poison', 'prejudic', 'pressur', 'prick', 'problem', 'protest', 'protested', 'protesting', 'puk', 'punish', 'rage', 'raging', 'rancid', 'rape', 'raping', 'rapist', 'rebel', 'reek', 'regret', 'reject', 'reluctan', 'remorse', 'repress', 'resent', 'resign', 'restless', 'revenge', 'ridicul', 'rigid', 'risk', 'rotten', 'rude', 'ruin', 'sad', 'sadde', 'sadly', 'sadness', 'sarcas', 'savage', 'scare', 'scaring', 'scary', 'sceptic', 'scream', 'screw', 'selfish', 'serious', 'seriously', 'seriousness', 'severe', 'shake', 'shaki', 'shaky', 'shame', 'shit', 'shock', 'shook', 'shy', 'sicken', 'sin', 'sinister', 'sins', 'skeptic', 'slut', 'smother', 'smug', 'snob', 'sob', 'sobbed', 'sobbing', 'sobs', 'solemn', 'sorrow', 'sorry', 'spite', 'stammer', 'stank', 'startl', 'steal', 'stench', 'stink', 'strain', 'strange', 'stress', 'struggl', 'stubborn', 'stunk', 'stunned', 'stuns', 'stupid', 'stutter', 'submissive', 'suck', 'sucked', 'sucker', 'sucks', 'sucky', 'suffer', 'suffered', 'sufferer', 'suffering', 'suffers', 'suspicio', 'tantrum', 'tears', 'teas', 'temper', 'tempers', 'tense', 'tensing', 'tension', 'terribl', 'terrified', 'terrifies', 'terrify', 'terrifying', 'terror', 'thief', 'thieve', 'threat', 'ticked', 'timid', 'tortur', 'tough', 'traged', 'tragic', 'trauma', 'trembl', 'trick', 'trite', 'trivi', 'troubl', 'turmoil', 'ugh', 'ugl', 'unattractive', 'uncertain', 'uncomfortabl', 'uncontrol', 'uneas', 'unfortunate', 'unfriendly', 'ungrateful', 'unhapp', 'unimportant', 'unimpress', 'unkind', 'unlov', 'unpleasant', 'unprotected', 'unsavo', 'unsuccessful', 'unsure', 'unwelcom', 'upset', 'uptight', 'useless', 'vain', 'vanity', 'vicious', 'victim', 'vile', 'villain', 'violat', 'violent', 'vulnerab', 'vulture', 'war', 'warfare', 'warred', 'warring', 'wars', 'weak', 'weapon', 'weep', 'weird', 'wept', 'whine', 'whining', 'whore', 'wicked', 'wimp', 'witch', 'woe', 'worr', 'worse', 'worst', 'worthless', 'wrong', 'yearn']\n"
     ]
    }
   ],
   "source": [
    "\n",
    "import nltk\n",
    "from nltk.tokenize import WhitespaceTokenizer\n",
    "\n",
    "\n",
    "tokenizer = WhitespaceTokenizer()\n",
    "\n",
    "nltk.download()\n",
    "\n",
    "from nltk.corpus import stopwords\n",
    "stopword_list = stopwords.words('english')\n",
    "print stopword_list \n",
    "\n",
    "import pandas as pd\n",
    "reviews_df = pd.read_csv(r\"C:\\Users\\Deon\\test_chunk1.csv\", encoding=\"utf-8\") #replace with smaller chunks\n",
    "#reviews_df \n",
    "\n",
    "positive_terms = []\n",
    "f = open('C:\\Users\\Deon\\Downloads\\positive_terms.txt', \"r\")\n",
    "positive_terms = f.read().splitlines()\n",
    "f.close()\n",
    "\n",
    "negative_terms = []\n",
    "f = open(r'C:\\Users\\Deon\\Downloads\\negtive_terms.txt', \"r\")\n",
    "negative_terms = f.read().splitlines()\n",
    "f.close()\n",
    "\n",
    "print positive_terms\n",
    "print \"\"\n",
    "print negative_terms\n",
    "\n",
    "porter = nltk.PorterStemmer()\n",
    "\n"
   ]
  },
  {
   "cell_type": "code",
   "execution_count": 25,
   "metadata": {
    "collapsed": true
   },
   "outputs": [],
   "source": [
    "import string\n",
    "\n",
    "def remove_punctuation(text):\n",
    "    #this removes punctuations that are defined in the string library\n",
    "    punctuations = string.punctuation \n",
    "\n",
    "    # But don't strip out apostrophes\n",
    "    excluded_punctuations = [\"'\"]\n",
    "    for p in punctuations:\n",
    "        if p not in excluded_punctuations:\n",
    "            # replace each punctuation symbol by a space\n",
    "            text = text.replace(p, \" \") \n",
    "\n",
    "    return text\n",
    "\n",
    "porter = nltk.PorterStemmer()"
   ]
  },
  {
   "cell_type": "code",
   "execution_count": 26,
   "metadata": {
    "collapsed": false
   },
   "outputs": [],
   "source": [
    "\n",
    "\n",
    "def normalize_review_text(text):\n",
    "    #text = text.lower()\n",
    "    text = remove_punctuation(text)\n",
    "    text = \" \".join(text.split())\n",
    "    text_tokens = tokenizer.tokenize(text)\n",
    "    text_tokens = [porter.stem(w) for w in text_tokens if w not in stopword_list]\n",
    "    return text_tokens\n",
    "\n",
    "# Apply the function above to the text column\n",
    "reviews_df[\"text\"] = reviews_df[\"text\"].apply(normalize_review_text)\n",
    "reviews_df\n",
    "\n",
    "def calculate_positivity(text):\n",
    "    num_tokens = len(text)\n",
    "    num_positive_tokens = 0\n",
    "    for t in text:\n",
    "        if t in positive_terms:\n",
    "            num_positive_tokens = num_positive_tokens + 1\n",
    "    # The positivity score is the fraction of tokens that were found in the positive dictionary\n",
    "    return float(num_positive_tokens) / float(num_tokens)\n",
    "\n",
    "reviews_df[\"positivity_score\"] = reviews_df[\"text\"].apply(calculate_positivity)\n",
    "\n"
   ]
  },
  {
   "cell_type": "code",
   "execution_count": 27,
   "metadata": {
    "collapsed": false
   },
   "outputs": [
    {
     "name": "stdout",
     "output_type": "stream",
     "text": [
      "\n"
     ]
    },
    {
     "data": {
      "text/plain": [
       "(0.093613417686275804, 0.69464512288309499)"
      ]
     },
     "execution_count": 27,
     "metadata": {},
     "output_type": "execute_result"
    }
   ],
   "source": [
    "def calculate_negativity(text):\n",
    "    num_tokens = len(text)\n",
    "    num_negative_tokens = 0\n",
    "    for t in text:\n",
    "        if t in negative_terms:\n",
    "            num_negative_tokens = num_negative_tokens + 1\n",
    "    # The positivity score is the fraction of tokens that were found in the positive dictionary\n",
    "    return float(num_negative_tokens) / float(num_tokens)\n",
    "\n",
    "reviews_df[\"negativity_score\"] = reviews_df[\"text\"].apply(calculate_negativity)\n",
    "reviews_df\n",
    "\n",
    "import scipy.stats as sp\n",
    "\n",
    "pos_score_stars_corr = sp.pearsonr(reviews_df[\"stars\"].values, reviews_df[\"positivity_score\"].values)\n",
    "pos_score_stars_corr\n",
    "\n",
    "print \"\"\n",
    "\n",
    "neg_score_stars_corr = sp.pearsonr(reviews_df[\"stars\"].values, reviews_df[\"negativity_score\"].values)\n",
    "neg_score_stars_corr\n"
   ]
  },
  {
   "cell_type": "code",
   "execution_count": 28,
   "metadata": {
    "collapsed": false
   },
   "outputs": [
    {
     "name": "stdout",
     "output_type": "stream",
     "text": [
      "0     0.093023\n",
      "1     0.062500\n",
      "2     0.125000\n",
      "3     0.169811\n",
      "4     0.069444\n",
      "5     0.102564\n",
      "6     0.071429\n",
      "7     0.090909\n",
      "8     0.137500\n",
      "9     0.081633\n",
      "10    0.046512\n",
      "11    0.035714\n",
      "12    0.041667\n",
      "13    0.060000\n",
      "14    0.046875\n",
      "15    0.060606\n",
      "16    0.052632\n",
      "17    0.029412\n",
      "18    0.000000\n",
      "19    0.033613\n",
      "Name: positivity_score, dtype: float64\n"
     ]
    }
   ],
   "source": [
    "print reviews_df[\"positivity_score\"]"
   ]
  },
  {
   "cell_type": "code",
   "execution_count": 29,
   "metadata": {
    "collapsed": false
   },
   "outputs": [
    {
     "name": "stdout",
     "output_type": "stream",
     "text": [
      "0     0.000000\n",
      "1     0.062500\n",
      "2     0.000000\n",
      "3     0.000000\n",
      "4     0.000000\n",
      "5     0.000000\n",
      "6     0.023810\n",
      "7     0.000000\n",
      "8     0.000000\n",
      "9     0.040816\n",
      "10    0.007752\n",
      "11    0.000000\n",
      "12    0.010417\n",
      "13    0.000000\n",
      "14    0.031250\n",
      "15    0.000000\n",
      "16    0.000000\n",
      "17    0.014706\n",
      "18    0.020833\n",
      "19    0.000000\n",
      "Name: negativity_score, dtype: float64\n"
     ]
    }
   ],
   "source": [
    "print reviews_df[\"negativity_score\"]"
   ]
  },
  {
   "cell_type": "code",
   "execution_count": null,
   "metadata": {
    "collapsed": true
   },
   "outputs": [],
   "source": []
  }
 ],
 "metadata": {
  "kernelspec": {
   "display_name": "Python 2",
   "language": "python",
   "name": "python2"
  },
  "language_info": {
   "codemirror_mode": {
    "name": "ipython",
    "version": 2
   },
   "file_extension": ".py",
   "mimetype": "text/x-python",
   "name": "python",
   "nbconvert_exporter": "python",
   "pygments_lexer": "ipython2",
   "version": "2.7.10"
  }
 },
 "nbformat": 4,
 "nbformat_minor": 0
}
